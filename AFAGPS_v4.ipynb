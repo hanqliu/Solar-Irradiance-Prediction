{
 "cells": [
  {
   "cell_type": "markdown",
   "id": "c2a530f8",
   "metadata": {},
   "source": [
    "# generate"
   ]
  },
  {
   "cell_type": "code",
   "execution_count": 1,
   "id": "ca5f5fa2",
   "metadata": {},
   "outputs": [],
   "source": [
    "import numpy as np\n",
    "import pandas as pd\n",
    "import matplotlib.pyplot as plt\n",
    "import math\n",
    "import os\n",
    "from tqdm.notebook import tqdm\n",
    "from time import sleep\n",
    "os.environ[\"KMP_DUPLICATE_LIB_OK\"]=\"TRUE\""
   ]
  },
  {
   "cell_type": "code",
   "execution_count": 2,
   "id": "d14b4932",
   "metadata": {
    "code_folding": [
     0
    ]
   },
   "outputs": [],
   "source": [
    "# coding:utf-8\n",
    "'''\n",
    "author:\n",
    "    zhangzhaopeng\n",
    "usage:\n",
    "    AFAGPS算法计算功率谱\n",
    "attention:\n",
    "    get_extremum, get_AFAGPS_graph为辅助功能,\n",
    "    与功率谱计算无关系.\n",
    "'''\n",
    "\n",
    "\n",
    "__author__ = 'zhangzhaopeng'\n",
    "\n",
    "\n",
    "def get_extremum(xx, yy, key=max, n=10):\n",
    "    \"\"\"\n",
    "    获得至多n个极值, 如果key=max则获得极大值,\n",
    "    如果key=min则获得极小值.\n",
    "\n",
    "    Parameters\n",
    "    ----------\n",
    "    xx: list\n",
    "        x axis data\n",
    "    yy: list\n",
    "        y axis data\n",
    "    key: func\n",
    "        default: max\n",
    "        key for  extremum.\n",
    "    n: int\n",
    "        default: 10\n",
    "        at most n extremum.\n",
    "\n",
    "    Returns\n",
    "    -------\n",
    "    a list of at most n numbers.\n",
    "    \"\"\"\n",
    "    if n == 0:\n",
    "        return [()]\n",
    "    data = []\n",
    "    for x, y, idx in zip(xx, yy, range(len(xx))):\n",
    "        if y != 0:\n",
    "            data.append((x, y, idx))\n",
    "    extremums = []\n",
    "    cutoff = int(len(data) * 1.0 / n)\n",
    "    for i in range(n):\n",
    "        start = i * cutoff\n",
    "        end = (1 + i) * cutoff\n",
    "        x, y, idx = key(data[start:end], key=lambda t: t[1])\n",
    "        if idx + 1 < len(yy):\n",
    "            if key(yy[idx], yy[idx + 1], yy[idx - 1]) == yy[idx]:\n",
    "                extremums.append((x, y, idx))\n",
    "        else:\n",
    "            extremums.append((x, y, idx))\n",
    "    return extremums\n",
    "\n",
    "\n",
    "def get_AFAGPS_graph(picName, x, y=None, h=0.2, style=None):\n",
    "    \"\"\"\n",
    "    作功率谱图像\n",
    "\n",
    "    Parameters\n",
    "    ----------\n",
    "    picName: str\n",
    "        default: None\n",
    "        图像名称\n",
    "    x,y:\n",
    "        若y为None，则计算列表x的功率谱结果并作图;\n",
    "        否则，直接以x,y的值作图\n",
    "    h:\n",
    "        指定AFAGPS算法中过滤系数\n",
    "    style:\n",
    "        如果为'D'则作竖线图\n",
    "\n",
    "    Returns\n",
    "    -------\n",
    "    exs: list\n",
    "        极值对.\n",
    "    \"\"\"\n",
    "    if y == None:\n",
    "        xx, yy = get_AFAGPS(x, h)\n",
    "    else:\n",
    "        xx, yy = x, y\n",
    "    import matplotlib.pyplot as plt\n",
    "    from matplotlib.lines import Line2D\n",
    "    max_yy = max(yy)\n",
    "    yy = [y / max_yy for y in yy]\n",
    "    fig = plt.figure(figsize=(10, 10), dpi=300)\n",
    "    #plt.plot(xx, yy)\n",
    "    ax = fig.add_subplot(111)\n",
    "    exs = []\n",
    "    for i in range(1, len(xx) - 1):\n",
    "        if yy[i] > yy[i-1] and yy[i] > yy[i+1]:\n",
    "            exs.append((xx[i], yy[i], i))\n",
    "            if style == 'D':\n",
    "                ax.add_line(Line2D((xx[i], xx[i]), (0, yy[i]), color='red'))\n",
    "    if style != 'D':\n",
    "        ax.scatter(xx, yy, linewidths=0.01)\n",
    "\n",
    "    plt.xlim(0, 2 * np.pi)\n",
    "    plt.ylim(0, 1.1)\n",
    "    plt.xticks((0, np.pi / 2, np.pi, 3 * np.pi / 2, 2 * np.pi),\n",
    "               (r\"$0$\", r\"$\\frac{\\pi}{2}$\", r\"$\\pi$\", r\"$\\frac{3\\pi}{4}$\", r\"$2\\pi$\"))\n",
    "\n",
    "    plt.savefig(\"C:\\\\Users\\\\Lenovo\\\\Desktop\\\\气象水文\\\\afagps计算功率谱\\\\\"+picName+\".png\")\n",
    "    plt.close()\n",
    "    return exs, max_yy\n",
    "\n",
    "\n",
    "def listConvolve(x, y):\n",
    "    \"\"\"\n",
    "    calculate linear convolution of two lists.\n",
    "\n",
    "    Attention\n",
    "    ---------\n",
    "        len(x)=m, len(y)=n, m<=n\n",
    "        return n length list: circular convolution of x and y\n",
    "    \"\"\"\n",
    "    ########## old #################\n",
    "    #result = np.convolve(x, y)[len(x)-1:len(y)]\n",
    "    ########## new #################\n",
    "    x.extend([0] * (len(y) - len(x)))\n",
    "    result = np.fft.ifft(np.fft.fft(x) * np.fft.fft(y)).real\n",
    "    return result\n",
    "\n",
    "\n",
    "def get_AFAGPS(X, tag='D', h=0.2):\n",
    "    '''\n",
    "    Parameters\n",
    "    ----------\n",
    "    X: list\n",
    "        需要计算功率谱的数据\n",
    "    tag: str\n",
    "    default: D\n",
    "        C: continuous Fourier Transform\n",
    "        D: Discrete Fourier Transfrom\n",
    "    h: float\n",
    "        指定AFAGPS算法中过滤系数\n",
    "\n",
    "    Examples\n",
    "    --------\n",
    "    ref to test.py\n",
    "    '''\n",
    "    X, N = [float(i) for i in X], len(X)\n",
    "    # normalized\n",
    "    mean, std = np.mean(X), np.std(X)\n",
    "   # X = [(i - mean) / std for i in X]\n",
    "    # reverse X\n",
    "    X_reverse = X[::-1]\n",
    "    # add zeros\n",
    "    X_reverse.extend([0] * N)\n",
    "    X=X_reverse[::-1]\n",
    "\t\n",
    "    # circular convolution, the same as matlab function \"cconv\"\n",
    "    Rn = listConvolve(X, X_reverse)\n",
    "    Rn = [1.0 / (N-i) * Rn[i] for i in range(1000)]   ######change1\n",
    "    # filt\n",
    "    for idx, i in enumerate(Rn):\n",
    "        if abs(i / Rn[0]) <= h:\n",
    "            Rn[idx] = 0\n",
    "    # add zeros\n",
    "    #Rn.extend(len(Rn) * [0])    ########change2\n",
    "\n",
    "    plist = [2 * value.real - Rn[0] for value in np.fft.fft(Rn)]\n",
    "    #m = max([abs(i) for i in plist])\n",
    "    #plist = [abs(i) / m for i in plist]\n",
    "\n",
    "    if tag == 'C':\n",
    "        \"\"\"CFT\"\"\"\n",
    "        yy = [i + j for i,\n",
    "              j in zip(plist[len(plist) // 2 + 1:], plist[:len(plist) // 2 + 1])]\n",
    "    elif tag == 'D':\n",
    "        \"\"\"DFT\"\"\"\n",
    "        yy = plist\n",
    "    '''\n",
    "    else:\n",
    "        import sys\n",
    "        print(\"Error!\")\n",
    "        sys.exit(1)\n",
    "        '''\n",
    "    xx = []\n",
    "    for i in range(len(yy)):\n",
    "        xx.append(i * np.pi / len(yy))\n",
    "    return xx, yy\n",
    "\n",
    "def get_abs2_ps(X):\n",
    "    \"\"\"\n",
    "    only for DFT.\n",
    "    \"\"\"\n",
    "    X, N = [float(i) for i in X], len(X)\n",
    "    # normalized\n",
    "    mean, std = np.mean(X), np.std(X)\n",
    "    X = [(i - mean) / std for i in X]\n",
    "    R = np.fft.fft(X)\n",
    "    absR = [abs(r)**2 for r in R]\n",
    "    m = np.mean(absR)\n",
    "    for idx, r in enumerate(absR):\n",
    "        if r < m:\n",
    "            absR[idx] = 0.\n",
    "    xx = []\n",
    "    for i in range(len(absR)):\n",
    "        xx.append(i * 2 * np.pi / len(absR))\n",
    "    return xx, absR"
   ]
  },
  {
   "cell_type": "markdown",
   "id": "62d4fc45",
   "metadata": {},
   "source": [
    "# functions"
   ]
  },
  {
   "cell_type": "code",
   "execution_count": 3,
   "id": "94cc984f",
   "metadata": {
    "code_folding": [
     0
    ]
   },
   "outputs": [],
   "source": [
    "def listConvolve(x, y):\n",
    "    \"\"\"\n",
    "    calculate linear convolution of two lists.\n",
    "\n",
    "    Attention\n",
    "    ---------\n",
    "        len(x)=m, len(y)=n, m<=n\n",
    "        return n length list: circular convolution of x and y\n",
    "    \"\"\"\n",
    "    ########## old #################\n",
    "    #result = np.convolve(x, y)[len(x)-1:len(y)]\n",
    "    ########## new #################\n",
    "    x.extend([0] * (len(y) - len(x)))\n",
    "    result = np.fft.ifft(np.fft.fft(x) * np.fft.fft(y)).real\n",
    "    return result"
   ]
  },
  {
   "cell_type": "code",
   "execution_count": 4,
   "id": "2982fa15",
   "metadata": {},
   "outputs": [],
   "source": [
    "da = pd.read_csv(r'D:\\e\\南开光伏课题数据集及说明\\NK2_GF\\评测数据\\气象数据\\Station_1.csv')\n",
    "da = np.array(da)\n",
    "da\n",
    "c1 = da[0:10000, 2]\n",
    "c2=da[0:10000,3]\n",
    "c3=da[0:10000,4]\n",
    "c4=da[0:10000,5]\n",
    "c5=da[0:10000,6]\n",
    "#ax,ay=get_AFAGPS(c1,h=0.2)\n",
    "#max_ay = max(ay)\n",
    "#ay = [y / max_ay for y in ay]\n",
    "#plt.figure(figsize=(40,10))\n",
    "#plt.plot(ax,ay)</div><i class=\"fa fa-lightbulb-o \"></i>"
   ]
  },
  {
   "cell_type": "code",
   "execution_count": 6,
   "id": "ae5e34c6",
   "metadata": {},
   "outputs": [],
   "source": [
    "c2=np.cos(c2.astype(float))"
   ]
  },
  {
   "cell_type": "code",
   "execution_count": 7,
   "id": "168d62b4",
   "metadata": {
    "code_folding": [
     0
    ]
   },
   "outputs": [],
   "source": [
    "def get_AFAGPS(X, tag='D', h=0.2):\n",
    "    '''\n",
    "    Parameters\n",
    "    ----------\n",
    "    X: list\n",
    "        需要计算功率谱的数据\n",
    "    tag: str\n",
    "    default: D\n",
    "        C: continuous Fourier Transform\n",
    "        D: Discrete Fourier Transfrom\n",
    "    h: float\n",
    "        指定AFAGPS算法中过滤系数\n",
    "\n",
    "    Examples\n",
    "    --------\n",
    "    ref to test.py\n",
    "    '''\n",
    "    X, N = [float(i) for i in X], len(X)\n",
    "    # normalized\n",
    "    mean, std = np.mean(X), np.std(X)\n",
    "    X = [(i - mean) / std for i in X]\n",
    "    # reverse X\n",
    "    X_reverse = X[::-1]\n",
    "    # add zeros\n",
    "    X_reverse.extend([0] * N)\n",
    "    X=X_reverse[::-1]\n",
    "\t\n",
    "    # circular convolution, the same as matlab function \"cconv\"\n",
    "    Rn = listConvolve(X, X_reverse)\n",
    "    Rn = [1.0 / (N-i) * Rn[i] for i in range(1000)]   ######change1\n",
    "    # filt\n",
    "    for idx, i in enumerate(Rn):\n",
    "        if abs(i / Rn[0]) <= h:\n",
    "            Rn[idx] = 0\n",
    "    # add zeros\n",
    "    Rn.extend(len(Rn) * [0])    ########change2\n",
    "\n",
    "    plist = [2 * value.real - Rn[0] for value in np.fft.fft(Rn)]\n",
    "    m = max([abs(i) for i in plist])\n",
    "    plist = [abs(i) / m for i in plist]\n",
    "\n",
    "    if tag == 'C':\n",
    "        \"\"\"CFT\"\"\"\n",
    "        yy = [i + j for i,\n",
    "              j in zip(plist[len(plist) // 2 + 1:], plist[:len(plist) // 2 + 1])]\n",
    "    elif tag == 'D':\n",
    "        \"\"\"DFT\"\"\"\n",
    "        yy = plist\n",
    "    '''\n",
    "    else:\n",
    "        import sys\n",
    "        print(\"Error!\")\n",
    "        sys.exit(1)\n",
    "        '''\n",
    "    xx = []\n",
    "    for i in range(len(yy)):\n",
    "        xx.append(i * np.pi / len(yy))\n",
    "    return xx, yy"
   ]
  },
  {
   "cell_type": "code",
   "execution_count": 8,
   "id": "46c9269c",
   "metadata": {
    "code_folding": [
     0
    ]
   },
   "outputs": [],
   "source": [
    "def sfgps(X):\n",
    "    X, N = [float(i) for i in X], len(X)\n",
    "    # normalized\n",
    "    mean, std = np.mean(X), np.std(X)\n",
    "    X = [(i - mean) / std for i in X]\n",
    "    yy=(abs(np.fft.fft(X)))**2\n",
    "    ave=1/(N+1)*sum(X)\n",
    "    y=list()\n",
    "    for m in yy:\n",
    "        if m>ave+std:\n",
    "            y.append(m)\n",
    "        else:\n",
    "            y.append(std**2)\n",
    "    return y"
   ]
  },
  {
   "cell_type": "code",
   "execution_count": 9,
   "id": "c46bb138",
   "metadata": {
    "code_folding": [
     0
    ]
   },
   "outputs": [],
   "source": [
    "def getsfgps(X,name='no'):\n",
    "    y=sfgps(X)\n",
    "    #max_y = max(y)\n",
    "    #y = [ay / max_y for ay in y]\n",
    "    #x=range(0,10000)\n",
    "    #plt.figure(figsize=(30,10),dpi=300)\n",
    "    #plt.bar(x,y,1)\n",
    "    #plt.plot(y)\n",
    "    #plt.savefig(\"C:\\\\Users\\\\Lenovo\\\\Desktop\\\\气象水文\\\\afagps功率谱new\\\\\"+name+\".png\")\n",
    "    print('getsfgps done')\n",
    "    return y"
   ]
  },
  {
   "cell_type": "code",
   "execution_count": 10,
   "id": "6a777f27",
   "metadata": {
    "code_folding": [
     0
    ]
   },
   "outputs": [],
   "source": [
    "def getgraph(x,name,hh):\n",
    "    ax,ay=get_AFAGPS(x,h=hh)\n",
    "    max_ay = max(ay)\n",
    "    ay = [y / max_ay for y in ay]\n",
    "    #plt.figure(figsize=(20,10),dpi=300)\n",
    "    #plt.plot(ax,ay)\n",
    "    #plt.savefig(\"C:\\\\Users\\\\Lenovo\\\\Desktop\\\\气象水文\\\\afagps功率谱new\\\\\"+name+\"10000afagps.png\")"
   ]
  },
  {
   "cell_type": "code",
   "execution_count": 11,
   "id": "d9ae43bb",
   "metadata": {
    "code_folding": [
     0
    ]
   },
   "outputs": [],
   "source": [
    "def getafa(x,hh):\n",
    "    ax,ay=get_AFAGPS(x,h=hh)\n",
    "    #max_ay = max(ay)\n",
    "    #ay = [y / max_ay for y in ay]\n",
    "    return ay"
   ]
  },
  {
   "cell_type": "code",
   "execution_count": 10,
   "id": "65b47c99",
   "metadata": {},
   "outputs": [
    {
     "data": {
      "text/plain": [
       "\"\\ngetgraph(c1,'第一列',0.2)\\ngetgraph(c2,'第二列',0.2)\\ngetgraph(c3,'第三列',0.2)\\ngetgraph(c4,'第四列',0.2)\\ngetgraph(c5,'第五列',0.2)\\n\""
      ]
     },
     "execution_count": 10,
     "metadata": {},
     "output_type": "execute_result"
    }
   ],
   "source": [
    "'''\n",
    "getgraph(c1,'第一列',0.2)\n",
    "getgraph(c2,'第二列',0.2)\n",
    "getgraph(c3,'第三列',0.2)\n",
    "getgraph(c4,'第四列',0.2)\n",
    "getgraph(c5,'第五列',0.2)\n",
    "'''"
   ]
  },
  {
   "cell_type": "code",
   "execution_count": 12,
   "id": "cdaaedb3",
   "metadata": {
    "code_folding": [
     0
    ]
   },
   "outputs": [],
   "source": [
    "def recover(c):\n",
    "    da=getsfgps(c)\n",
    "    #da=getafa(c)\n",
    "    ind=[da.index(a) for a in da if a >0.2]\n",
    "    A=[]\n",
    "    for i in ind:\n",
    "        A.append(da[i])\n",
    "    index=ind[0:math.ceil(len(ind)/2)]\n",
    "    x=np.linspace(0,208*np.pi,9984)\n",
    "    y=[]\n",
    "    yy=[0 for i in range(9984)]\n",
    "    for i in range(0,math.ceil(len(ind)/2)):\n",
    "        y.append(np.sqrt(A[i])*np.cos(index[i]/10000*x))\n",
    "    #for m in y:\n",
    "    #   yy=yy+m\n",
    "    #return yy\n",
    "    return y"
   ]
  },
  {
   "cell_type": "code",
   "execution_count": 13,
   "id": "f20c3416",
   "metadata": {
    "code_folding": [
     0
    ]
   },
   "outputs": [],
   "source": [
    "#return A,index\n",
    "def getda(c):\n",
    "    da=getsfgps(c)\n",
    "    #da=getafa(c,0.2)\n",
    "    ind=[da.index(a) for a in da if a >0.2]\n",
    "    A=[]\n",
    "    for i in ind:\n",
    "        A.append(da[i])\n",
    "    index=ind[0:math.ceil(len(ind)/2)]\n",
    "    print('getda done')\n",
    "    return A,index"
   ]
  },
  {
   "cell_type": "code",
   "execution_count": 14,
   "id": "bd280b2b",
   "metadata": {
    "code_folding": [
     16
    ]
   },
   "outputs": [],
   "source": [
    "#return yy\n",
    "def getre(A,index,theta):\n",
    "    x=np.linspace(0,208*np.pi,9984)\n",
    "    theta=np.array([theta for i in range(len(x))])\n",
    "    y=[]\n",
    "    yy=[0 for i in range(9984)]\n",
    "    for i in range(0,len(index)-1):\n",
    "        if A[i]==max(A):\n",
    "            y.append(np.sqrt(A[i])*np.cos((index[i]+1)/96*x+theta))\n",
    "        else:\n",
    "            y.append(np.sqrt(A[i])*np.cos((index[i]+1)/96*x))\n",
    "    for m in y:\n",
    "        yy=yy+m\n",
    "    print('getre done')\n",
    "    return yy\n",
    "#return mingap\n",
    "def mingap(c):\n",
    "    m=np.linspace(0,2*np.pi,1000)\n",
    "    gaap=[]\n",
    "    for i in m:\n",
    "        A,index=getda(c)\n",
    "        yy=getre(A,index,i)\n",
    "        me=np.mean(yy)\n",
    "        st=np.std(yy)\n",
    "        yy=(yy-me)/st\n",
    "        cme=np.mean(c)\n",
    "        cst=np.std(c)\n",
    "        c=(c-cme)/cst\n",
    "        gap=sum([abs(yy[n]-c[n]) for n in range(len(yy)-1)])\n",
    "        gaap.append(gap)\n",
    "    return min(gaap)\n",
    "    #return gaap"
   ]
  },
  {
   "cell_type": "code",
   "execution_count": 15,
   "id": "1a134ec2",
   "metadata": {
    "code_folding": []
   },
   "outputs": [],
   "source": [
    "#show figure\n",
    "def seegap(c):\n",
    "    m=np.linspace(0,6.28,99)\n",
    "    gaap=[]\n",
    "    for i in m:\n",
    "        print(i)\n",
    "        A,index=getda(c)\n",
    "        yy=getre(A,index,i)\n",
    "        me=np.mean(yy)\n",
    "        st=np.std(yy)\n",
    "        yy=(yy-me)/st\n",
    "        cme=np.mean(c)\n",
    "        cst=np.std(c)\n",
    "        c=(c-cme)/cst\n",
    "        gap=sum([abs(yy[n]-c[n]) for n in range(len(yy)-1)])\n",
    "        gaap.append(gap)\n",
    "    mi=min(gaap)\n",
    "    print(np.where(gaap==mi))\n",
    "    y=getre(A,index,m[np.where(gaap==mi)][0])\n",
    "    #plt.plot(c)\n",
    "    #plt.plot(y)\n",
    "    #plt.show()\n",
    "    return y"
   ]
  },
  {
   "cell_type": "code",
   "execution_count": 16,
   "id": "e45edda1",
   "metadata": {
    "code_folding": [
     1
    ]
   },
   "outputs": [],
   "source": [
    "#return certain gap\n",
    "def findgap(c,i):\n",
    "    A,index=getda(c)\n",
    "    yy=getre(A,index,i)\n",
    "    me=np.mean(yy)\n",
    "    st=np.std(yy)\n",
    "    yy=(yy-me)/st\n",
    "    cme=np.mean(c)\n",
    "    cst=np.std(c)\n",
    "    c=(c-cme)/cst\n",
    "    gap=sum([abs(yy[n]-c[n]) for n in range(len(yy)-1)])\n",
    "    return gap"
   ]
  },
  {
   "cell_type": "code",
   "execution_count": 17,
   "id": "844d7988",
   "metadata": {
    "code_folding": [
     0
    ]
   },
   "outputs": [],
   "source": [
    "def stdlise(x):\n",
    "    me,std=np.mean(x),np.std(x)\n",
    "    x=(x-me)/std\n",
    "    return x"
   ]
  },
  {
   "cell_type": "code",
   "execution_count": 18,
   "id": "f3fda7f0",
   "metadata": {
    "code_folding": []
   },
   "outputs": [],
   "source": [
    "def getfig(y,c,no=str(1)):\n",
    "    plt.figure(figsize=(200,30))\n",
    "    plt.plot(stdlise(y),label='simulate')\n",
    "    plt.plot(stdlise(c),label='origin')\n",
    "    plt.legend()\n",
    "    plt.savefig('C:\\\\Users\\\\Lenovo\\\\Desktop\\\\气象水文\\\\还原'+no+'.png')\n",
    "    plt.close()\n",
    "    plt.clf()"
   ]
  },
  {
   "cell_type": "markdown",
   "id": "d572b8b8",
   "metadata": {},
   "source": [
    "# furthur"
   ]
  },
  {
   "cell_type": "code",
   "execution_count": 19,
   "id": "f47a8947",
   "metadata": {
    "code_folding": [
     18,
     22
    ]
   },
   "outputs": [
    {
     "data": {
      "text/plain": [
       "\"       \\nfor m in y:\\n    yy=yy+m\\nprint('getre done')\\n\\ngaap=[]\\n    y=[]\\n    yy=[0 for i in range(9984)]\\n\\n    \\n    for i in m:\\n        print(i)\\n        A,index=getda(c)\\n        yy=getre(A,index,i)\\n        me=np.mean(yy)\\n        st=np.std(yy)\\n        yy=(yy-me)/st\\n        cme=np.mean(c)\\n        cst=np.std(c)\\n        c=(c-cme)/cst\\n        gap=sum([abs(yy[n]-c[n]) for n in range(len(yy)-1)])\\n        gaap.append(gap)\\n    mi=min(gaap)\\n    print(np.where(gaap==mi))\\n    y=getre(A,index,m[np.where(gaap==mi)][0])\\n\""
      ]
     },
     "execution_count": 19,
     "metadata": {},
     "output_type": "execute_result"
    }
   ],
   "source": [
    "def minimize(c):\n",
    "    A,index=getda(c)\n",
    "    m=np.linspace(0,6.28,99)\n",
    "    x=np.linspace(0,208*np.pi,9984)\n",
    "    Y=[0 for i in range(len(x))]\n",
    "    for i in range(0,len(index)-1):\n",
    "        gaap=[]\n",
    "        for theta in m:\n",
    "            the=np.array([theta for i in range(len(x))])\n",
    "            y=(np.sqrt(A[i])*np.cos((index[i]+1)/96*x+the)).astype(list)\n",
    "            test=[m+n for m,n in zip(Y,y)]\n",
    "            gap=sum([abs(test[n]-c1[n]) for n in range(len(Y)-1)])\n",
    "            gaap.append(gap)\n",
    "        mk=np.array([m[gaap.index(min(gaap))] for i in range(len(x))])\n",
    "        yfori=(np.sqrt(A[i])*np.cos((index[i]+1)/96*x+mk)).astype(list)\n",
    "        Y=[m+n for m,n in zip(Y,yfori)]\n",
    "    return Y\n",
    "'''       \n",
    "for m in y:\n",
    "    yy=yy+m\n",
    "print('getre done')\n",
    "\n",
    "gaap=[]\n",
    "    y=[]\n",
    "    yy=[0 for i in range(9984)]\n",
    "\n",
    "    \n",
    "    for i in m:\n",
    "        print(i)\n",
    "        A,index=getda(c)\n",
    "        yy=getre(A,index,i)\n",
    "        me=np.mean(yy)\n",
    "        st=np.std(yy)\n",
    "        yy=(yy-me)/st\n",
    "        cme=np.mean(c)\n",
    "        cst=np.std(c)\n",
    "        c=(c-cme)/cst\n",
    "        gap=sum([abs(yy[n]-c[n]) for n in range(len(yy)-1)])\n",
    "        gaap.append(gap)\n",
    "    mi=min(gaap)\n",
    "    print(np.where(gaap==mi))\n",
    "    y=getre(A,index,m[np.where(gaap==mi)][0])\n",
    "'''"
   ]
  },
  {
   "cell_type": "code",
   "execution_count": 93,
   "id": "96f7b2e4",
   "metadata": {},
   "outputs": [
    {
     "data": {
      "text/plain": [
       "list"
      ]
     },
     "execution_count": 93,
     "metadata": {},
     "output_type": "execute_result"
    }
   ],
   "source": [
    "type(index)"
   ]
  },
  {
   "cell_type": "code",
   "execution_count": 39,
   "id": "8dbca4bf",
   "metadata": {},
   "outputs": [
    {
     "name": "stdout",
     "output_type": "stream",
     "text": [
      "11\n",
      "getsfgps done\n",
      "getda done\n",
      "12\n",
      "getsfgps done\n",
      "getda done\n",
      "13\n",
      "getsfgps done\n",
      "getda done\n",
      "14\n",
      "getsfgps done\n",
      "getda done\n",
      "15\n",
      "getsfgps done\n",
      "getda done\n"
     ]
    },
    {
     "data": {
      "text/plain": [
       "<Figure size 432x288 with 0 Axes>"
      ]
     },
     "metadata": {},
     "output_type": "display_data"
    }
   ],
   "source": [
    "for c,i in zip((c1,c2,c3,c4,c5),('11','12','13','14','15')):\n",
    "    print(i)\n",
    "    getfig(stdlise(minimize(c)),stdlise(c),i) "
   ]
  },
  {
   "cell_type": "code",
   "execution_count": 28,
   "id": "b92a06a8",
   "metadata": {},
   "outputs": [],
   "source": [
    "x=np.linspace(0,208*np.pi,9984)\n",
    "y=np.cos(x)"
   ]
  },
  {
   "cell_type": "code",
   "execution_count": 21,
   "id": "6420733b",
   "metadata": {},
   "outputs": [
    {
     "name": "stdout",
     "output_type": "stream",
     "text": [
      "getsfgps done\n",
      "getda done\n"
     ]
    },
    {
     "ename": "KeyboardInterrupt",
     "evalue": "",
     "output_type": "error",
     "traceback": [
      "\u001b[1;31m---------------------------------------------------------------------------\u001b[0m",
      "\u001b[1;31mKeyboardInterrupt\u001b[0m                         Traceback (most recent call last)",
      "\u001b[1;32m~\\AppData\\Local\\Temp\\ipykernel_54240\\1430878751.py\u001b[0m in \u001b[0;36m<module>\u001b[1;34m\u001b[0m\n\u001b[1;32m----> 1\u001b[1;33m \u001b[0mgetfig\u001b[0m\u001b[1;33m(\u001b[0m\u001b[0mstdlise\u001b[0m\u001b[1;33m(\u001b[0m\u001b[0mminimize\u001b[0m\u001b[1;33m(\u001b[0m\u001b[0my\u001b[0m\u001b[1;33m)\u001b[0m\u001b[1;33m)\u001b[0m\u001b[1;33m,\u001b[0m\u001b[0mstdlise\u001b[0m\u001b[1;33m(\u001b[0m\u001b[0my\u001b[0m\u001b[1;33m)\u001b[0m\u001b[1;33m,\u001b[0m\u001b[1;34m'test'\u001b[0m\u001b[1;33m)\u001b[0m\u001b[1;33m\u001b[0m\u001b[1;33m\u001b[0m\u001b[0m\n\u001b[0m",
      "\u001b[1;32m~\\AppData\\Local\\Temp\\ipykernel_54240\\1222497719.py\u001b[0m in \u001b[0;36mminimize\u001b[1;34m(c)\u001b[0m\n\u001b[0;32m      8\u001b[0m         \u001b[1;32mfor\u001b[0m \u001b[0mtheta\u001b[0m \u001b[1;32min\u001b[0m \u001b[0mm\u001b[0m\u001b[1;33m:\u001b[0m\u001b[1;33m\u001b[0m\u001b[1;33m\u001b[0m\u001b[0m\n\u001b[0;32m      9\u001b[0m             \u001b[0mthe\u001b[0m\u001b[1;33m=\u001b[0m\u001b[0mnp\u001b[0m\u001b[1;33m.\u001b[0m\u001b[0marray\u001b[0m\u001b[1;33m(\u001b[0m\u001b[1;33m[\u001b[0m\u001b[0mtheta\u001b[0m \u001b[1;32mfor\u001b[0m \u001b[0mi\u001b[0m \u001b[1;32min\u001b[0m \u001b[0mrange\u001b[0m\u001b[1;33m(\u001b[0m\u001b[0mlen\u001b[0m\u001b[1;33m(\u001b[0m\u001b[0mx\u001b[0m\u001b[1;33m)\u001b[0m\u001b[1;33m)\u001b[0m\u001b[1;33m]\u001b[0m\u001b[1;33m)\u001b[0m\u001b[1;33m\u001b[0m\u001b[1;33m\u001b[0m\u001b[0m\n\u001b[1;32m---> 10\u001b[1;33m             \u001b[0my\u001b[0m\u001b[1;33m=\u001b[0m\u001b[1;33m(\u001b[0m\u001b[0mnp\u001b[0m\u001b[1;33m.\u001b[0m\u001b[0msqrt\u001b[0m\u001b[1;33m(\u001b[0m\u001b[0mA\u001b[0m\u001b[1;33m[\u001b[0m\u001b[0mi\u001b[0m\u001b[1;33m]\u001b[0m\u001b[1;33m)\u001b[0m\u001b[1;33m*\u001b[0m\u001b[0mnp\u001b[0m\u001b[1;33m.\u001b[0m\u001b[0mcos\u001b[0m\u001b[1;33m(\u001b[0m\u001b[1;33m(\u001b[0m\u001b[0mindex\u001b[0m\u001b[1;33m[\u001b[0m\u001b[0mi\u001b[0m\u001b[1;33m]\u001b[0m\u001b[1;33m+\u001b[0m\u001b[1;36m1\u001b[0m\u001b[1;33m)\u001b[0m\u001b[1;33m/\u001b[0m\u001b[1;36m96\u001b[0m\u001b[1;33m*\u001b[0m\u001b[0mx\u001b[0m\u001b[1;33m+\u001b[0m\u001b[0mthe\u001b[0m\u001b[1;33m)\u001b[0m\u001b[1;33m)\u001b[0m\u001b[1;33m.\u001b[0m\u001b[0mastype\u001b[0m\u001b[1;33m(\u001b[0m\u001b[0mlist\u001b[0m\u001b[1;33m)\u001b[0m\u001b[1;33m\u001b[0m\u001b[1;33m\u001b[0m\u001b[0m\n\u001b[0m\u001b[0;32m     11\u001b[0m             \u001b[0mtest\u001b[0m\u001b[1;33m=\u001b[0m\u001b[1;33m[\u001b[0m\u001b[0mm\u001b[0m\u001b[1;33m+\u001b[0m\u001b[0mn\u001b[0m \u001b[1;32mfor\u001b[0m \u001b[0mm\u001b[0m\u001b[1;33m,\u001b[0m\u001b[0mn\u001b[0m \u001b[1;32min\u001b[0m \u001b[0mzip\u001b[0m\u001b[1;33m(\u001b[0m\u001b[0mY\u001b[0m\u001b[1;33m,\u001b[0m\u001b[0my\u001b[0m\u001b[1;33m)\u001b[0m\u001b[1;33m]\u001b[0m\u001b[1;33m\u001b[0m\u001b[1;33m\u001b[0m\u001b[0m\n\u001b[0;32m     12\u001b[0m             \u001b[0mgap\u001b[0m\u001b[1;33m=\u001b[0m\u001b[0msum\u001b[0m\u001b[1;33m(\u001b[0m\u001b[1;33m[\u001b[0m\u001b[0mabs\u001b[0m\u001b[1;33m(\u001b[0m\u001b[0mtest\u001b[0m\u001b[1;33m[\u001b[0m\u001b[0mn\u001b[0m\u001b[1;33m]\u001b[0m\u001b[1;33m-\u001b[0m\u001b[0mc1\u001b[0m\u001b[1;33m[\u001b[0m\u001b[0mn\u001b[0m\u001b[1;33m]\u001b[0m\u001b[1;33m)\u001b[0m \u001b[1;32mfor\u001b[0m \u001b[0mn\u001b[0m \u001b[1;32min\u001b[0m \u001b[0mrange\u001b[0m\u001b[1;33m(\u001b[0m\u001b[0mlen\u001b[0m\u001b[1;33m(\u001b[0m\u001b[0mY\u001b[0m\u001b[1;33m)\u001b[0m\u001b[1;33m-\u001b[0m\u001b[1;36m1\u001b[0m\u001b[1;33m)\u001b[0m\u001b[1;33m]\u001b[0m\u001b[1;33m)\u001b[0m\u001b[1;33m\u001b[0m\u001b[1;33m\u001b[0m\u001b[0m\n",
      "\u001b[1;31mKeyboardInterrupt\u001b[0m: "
     ]
    }
   ],
   "source": [
    "getfig(stdlise(minimize(y)),stdlise(y),'test')"
   ]
  },
  {
   "cell_type": "code",
   "execution_count": 29,
   "id": "1c2a4c29",
   "metadata": {},
   "outputs": [
    {
     "name": "stdout",
     "output_type": "stream",
     "text": [
      "getsfgps done\n",
      "getda done\n"
     ]
    },
    {
     "data": {
      "text/plain": [
       "[<matplotlib.lines.Line2D at 0x1c18200c508>]"
      ]
     },
     "execution_count": 29,
     "metadata": {},
     "output_type": "execute_result"
    },
    {
     "data": {
      "image/png": "[encoded data removed]",
      "text/plain": [
       "<Figure size 432x288 with 1 Axes>"
      ]
     },
     "metadata": {
      "needs_background": "light"
     },
     "output_type": "display_data"
    }
   ],
   "source": [
    "plt.plot(stdlise(minimize(y)))"
   ]
  },
  {
   "cell_type": "code",
   "execution_count": 30,
   "id": "a008aa3b",
   "metadata": {},
   "outputs": [
    {
     "data": {
      "text/plain": [
       "[<matplotlib.lines.Line2D at 0x1c181f80508>]"
      ]
     },
     "execution_count": 30,
     "metadata": {},
     "output_type": "execute_result"
    },
    {
     "data": {
      "image/png": "[encoded data removed]",
      "text/plain": [
       "<Figure size 432x288 with 1 Axes>"
      ]
     },
     "metadata": {
      "needs_background": "light"
     },
     "output_type": "display_data"
    }
   ],
   "source": [
    "plt.plot(stdlise(y))"
   ]
  },
  {
   "cell_type": "markdown",
   "id": "645bea71",
   "metadata": {},
   "source": [
    "# APPLY"
   ]
  },
  {
   "cell_type": "code",
   "execution_count": 58,
   "id": "e3a9d0ff",
   "metadata": {},
   "outputs": [
    {
     "name": "stdout",
     "output_type": "stream",
     "text": [
      "1\n",
      "0.0\n",
      "getsfgps done\n",
      "getda done\n",
      "getre done\n",
      "0.06408163265306123\n",
      "getsfgps done\n",
      "getda done\n",
      "getre done\n",
      "0.12816326530612246\n",
      "getsfgps done\n",
      "getda done\n",
      "getre done\n",
      "0.1922448979591837\n",
      "getsfgps done\n",
      "getda done\n",
      "getre done\n",
      "0.2563265306122449\n",
      "getsfgps done\n",
      "getda done\n",
      "getre done\n",
      "0.32040816326530613\n",
      "getsfgps done\n",
      "getda done\n",
      "getre done\n",
      "0.3844897959183674\n",
      "getsfgps done\n",
      "getda done\n",
      "getre done\n",
      "0.4485714285714286\n",
      "getsfgps done\n",
      "getda done\n",
      "getre done\n",
      "0.5126530612244898\n",
      "getsfgps done\n",
      "getda done\n",
      "getre done\n",
      "0.576734693877551\n",
      "getsfgps done\n",
      "getda done\n",
      "getre done\n",
      "0.6408163265306123\n",
      "getsfgps done\n",
      "getda done\n",
      "getre done\n",
      "0.7048979591836735\n",
      "getsfgps done\n",
      "getda done\n",
      "getre done\n",
      "0.7689795918367348\n",
      "getsfgps done\n",
      "getda done\n",
      "getre done\n",
      "0.833061224489796\n",
      "getsfgps done\n",
      "getda done\n",
      "getre done\n",
      "0.8971428571428572\n",
      "getsfgps done\n",
      "getda done\n",
      "getre done\n",
      "0.9612244897959185\n",
      "getsfgps done\n",
      "getda done\n",
      "getre done\n",
      "1.0253061224489797\n",
      "getsfgps done\n",
      "getda done\n",
      "getre done\n",
      "1.089387755102041\n",
      "getsfgps done\n",
      "getda done\n",
      "getre done\n",
      "1.153469387755102\n",
      "getsfgps done\n",
      "getda done\n",
      "getre done\n",
      "1.2175510204081634\n",
      "getsfgps done\n",
      "getda done\n",
      "getre done\n",
      "1.2816326530612245\n",
      "getsfgps done\n",
      "getda done\n",
      "getre done\n",
      "1.3457142857142859\n",
      "getsfgps done\n",
      "getda done\n",
      "getre done\n",
      "1.409795918367347\n",
      "getsfgps done\n",
      "getda done\n",
      "getre done\n",
      "1.4738775510204083\n",
      "getsfgps done\n",
      "getda done\n",
      "getre done\n",
      "1.5379591836734696\n",
      "getsfgps done\n",
      "getda done\n",
      "getre done\n",
      "1.6020408163265307\n",
      "getsfgps done\n",
      "getda done\n",
      "getre done\n",
      "1.666122448979592\n",
      "getsfgps done\n",
      "getda done\n",
      "getre done\n",
      "1.7302040816326532\n",
      "getsfgps done\n",
      "getda done\n",
      "getre done\n",
      "1.7942857142857145\n",
      "getsfgps done\n",
      "getda done\n",
      "getre done\n",
      "1.8583673469387756\n",
      "getsfgps done\n",
      "getda done\n",
      "getre done\n",
      "1.922448979591837\n",
      "getsfgps done\n",
      "getda done\n",
      "getre done\n",
      "1.986530612244898\n",
      "getsfgps done\n",
      "getda done\n",
      "getre done\n",
      "2.0506122448979593\n",
      "getsfgps done\n",
      "getda done\n",
      "getre done\n",
      "2.1146938775510207\n",
      "getsfgps done\n",
      "getda done\n",
      "getre done\n",
      "2.178775510204082\n",
      "getsfgps done\n",
      "getda done\n",
      "getre done\n",
      "2.242857142857143\n",
      "getsfgps done\n",
      "getda done\n",
      "getre done\n",
      "2.306938775510204\n",
      "getsfgps done\n",
      "getda done\n",
      "getre done\n",
      "2.3710204081632655\n",
      "getsfgps done\n",
      "getda done\n",
      "getre done\n",
      "2.435102040816327\n",
      "getsfgps done\n",
      "getda done\n",
      "getre done\n",
      "2.4991836734693877\n",
      "getsfgps done\n",
      "getda done\n",
      "getre done\n",
      "2.563265306122449\n",
      "getsfgps done\n",
      "getda done\n",
      "getre done\n",
      "2.6273469387755104\n",
      "getsfgps done\n",
      "getda done\n",
      "getre done\n",
      "2.6914285714285717\n",
      "getsfgps done\n",
      "getda done\n",
      "getre done\n",
      "2.755510204081633\n",
      "getsfgps done\n",
      "getda done\n",
      "getre done\n",
      "2.819591836734694\n",
      "getsfgps done\n",
      "getda done\n"
     ]
    },
    {
     "ename": "KeyboardInterrupt",
     "evalue": "",
     "output_type": "error",
     "traceback": [
      "\u001b[1;31m---------------------------------------------------------------------------\u001b[0m",
      "\u001b[1;31mKeyboardInterrupt\u001b[0m                         Traceback (most recent call last)",
      "\u001b[1;32m~\\AppData\\Local\\Temp/ipykernel_37052/1922054160.py\u001b[0m in \u001b[0;36m<module>\u001b[1;34m\u001b[0m\n\u001b[0;32m      1\u001b[0m \u001b[1;32mfor\u001b[0m \u001b[0mc\u001b[0m\u001b[1;33m,\u001b[0m\u001b[0mi\u001b[0m \u001b[1;32min\u001b[0m \u001b[0mzip\u001b[0m\u001b[1;33m(\u001b[0m\u001b[1;33m(\u001b[0m\u001b[0mc1\u001b[0m\u001b[1;33m,\u001b[0m\u001b[0mc2\u001b[0m\u001b[1;33m,\u001b[0m\u001b[0mc3\u001b[0m\u001b[1;33m,\u001b[0m\u001b[0mc4\u001b[0m\u001b[1;33m,\u001b[0m\u001b[0mc5\u001b[0m\u001b[1;33m)\u001b[0m\u001b[1;33m,\u001b[0m\u001b[1;33m(\u001b[0m\u001b[1;34m'1'\u001b[0m\u001b[1;33m,\u001b[0m\u001b[1;34m'2'\u001b[0m\u001b[1;33m,\u001b[0m\u001b[1;34m'3'\u001b[0m\u001b[1;33m,\u001b[0m\u001b[1;34m'4'\u001b[0m\u001b[1;33m,\u001b[0m\u001b[1;34m'5'\u001b[0m\u001b[1;33m)\u001b[0m\u001b[1;33m)\u001b[0m\u001b[1;33m:\u001b[0m\u001b[1;33m\u001b[0m\u001b[1;33m\u001b[0m\u001b[0m\n\u001b[0;32m      2\u001b[0m     \u001b[0mprint\u001b[0m\u001b[1;33m(\u001b[0m\u001b[0mi\u001b[0m\u001b[1;33m)\u001b[0m\u001b[1;33m\u001b[0m\u001b[1;33m\u001b[0m\u001b[0m\n\u001b[1;32m----> 3\u001b[1;33m     \u001b[0mgetfig\u001b[0m\u001b[1;33m(\u001b[0m\u001b[0mstdlise\u001b[0m\u001b[1;33m(\u001b[0m\u001b[0mseegap\u001b[0m\u001b[1;33m(\u001b[0m\u001b[0mc\u001b[0m\u001b[1;33m)\u001b[0m\u001b[1;33m)\u001b[0m\u001b[1;33m,\u001b[0m\u001b[0mstdlise\u001b[0m\u001b[1;33m(\u001b[0m\u001b[0mc\u001b[0m\u001b[1;33m)\u001b[0m\u001b[1;33m,\u001b[0m\u001b[0mi\u001b[0m\u001b[1;33m)\u001b[0m\u001b[1;33m\u001b[0m\u001b[1;33m\u001b[0m\u001b[0m\n\u001b[0m",
      "\u001b[1;32m~\\AppData\\Local\\Temp/ipykernel_37052/70539646.py\u001b[0m in \u001b[0;36mseegap\u001b[1;34m(c)\u001b[0m\n\u001b[0;32m      6\u001b[0m         \u001b[0mprint\u001b[0m\u001b[1;33m(\u001b[0m\u001b[0mi\u001b[0m\u001b[1;33m)\u001b[0m\u001b[1;33m\u001b[0m\u001b[1;33m\u001b[0m\u001b[0m\n\u001b[0;32m      7\u001b[0m         \u001b[0mA\u001b[0m\u001b[1;33m,\u001b[0m\u001b[0mindex\u001b[0m\u001b[1;33m=\u001b[0m\u001b[0mgetda\u001b[0m\u001b[1;33m(\u001b[0m\u001b[0mc\u001b[0m\u001b[1;33m)\u001b[0m\u001b[1;33m\u001b[0m\u001b[1;33m\u001b[0m\u001b[0m\n\u001b[1;32m----> 8\u001b[1;33m         \u001b[0myy\u001b[0m\u001b[1;33m=\u001b[0m\u001b[0mgetre\u001b[0m\u001b[1;33m(\u001b[0m\u001b[0mA\u001b[0m\u001b[1;33m,\u001b[0m\u001b[0mindex\u001b[0m\u001b[1;33m,\u001b[0m\u001b[0mi\u001b[0m\u001b[1;33m)\u001b[0m\u001b[1;33m\u001b[0m\u001b[1;33m\u001b[0m\u001b[0m\n\u001b[0m\u001b[0;32m      9\u001b[0m         \u001b[0mme\u001b[0m\u001b[1;33m=\u001b[0m\u001b[0mnp\u001b[0m\u001b[1;33m.\u001b[0m\u001b[0mmean\u001b[0m\u001b[1;33m(\u001b[0m\u001b[0myy\u001b[0m\u001b[1;33m)\u001b[0m\u001b[1;33m\u001b[0m\u001b[1;33m\u001b[0m\u001b[0m\n\u001b[0;32m     10\u001b[0m         \u001b[0mst\u001b[0m\u001b[1;33m=\u001b[0m\u001b[0mnp\u001b[0m\u001b[1;33m.\u001b[0m\u001b[0mstd\u001b[0m\u001b[1;33m(\u001b[0m\u001b[0myy\u001b[0m\u001b[1;33m)\u001b[0m\u001b[1;33m\u001b[0m\u001b[1;33m\u001b[0m\u001b[0m\n",
      "\u001b[1;32m~\\AppData\\Local\\Temp/ipykernel_37052/3697821826.py\u001b[0m in \u001b[0;36mgetre\u001b[1;34m(A, index, theta)\u001b[0m\n\u001b[0;32m      8\u001b[0m             \u001b[0my\u001b[0m\u001b[1;33m.\u001b[0m\u001b[0mappend\u001b[0m\u001b[1;33m(\u001b[0m\u001b[0mnp\u001b[0m\u001b[1;33m.\u001b[0m\u001b[0msqrt\u001b[0m\u001b[1;33m(\u001b[0m\u001b[0mA\u001b[0m\u001b[1;33m[\u001b[0m\u001b[0mi\u001b[0m\u001b[1;33m]\u001b[0m\u001b[1;33m)\u001b[0m\u001b[1;33m*\u001b[0m\u001b[0mnp\u001b[0m\u001b[1;33m.\u001b[0m\u001b[0mcos\u001b[0m\u001b[1;33m(\u001b[0m\u001b[1;33m(\u001b[0m\u001b[0mindex\u001b[0m\u001b[1;33m[\u001b[0m\u001b[0mi\u001b[0m\u001b[1;33m]\u001b[0m\u001b[1;33m+\u001b[0m\u001b[1;36m1\u001b[0m\u001b[1;33m)\u001b[0m\u001b[1;33m/\u001b[0m\u001b[1;36m96\u001b[0m\u001b[1;33m*\u001b[0m\u001b[0mx\u001b[0m\u001b[1;33m+\u001b[0m\u001b[0mtheta\u001b[0m\u001b[1;33m)\u001b[0m\u001b[1;33m)\u001b[0m\u001b[1;33m\u001b[0m\u001b[1;33m\u001b[0m\u001b[0m\n\u001b[0;32m      9\u001b[0m         \u001b[1;32melse\u001b[0m\u001b[1;33m:\u001b[0m\u001b[1;33m\u001b[0m\u001b[1;33m\u001b[0m\u001b[0m\n\u001b[1;32m---> 10\u001b[1;33m             \u001b[0my\u001b[0m\u001b[1;33m.\u001b[0m\u001b[0mappend\u001b[0m\u001b[1;33m(\u001b[0m\u001b[0mnp\u001b[0m\u001b[1;33m.\u001b[0m\u001b[0msqrt\u001b[0m\u001b[1;33m(\u001b[0m\u001b[0mA\u001b[0m\u001b[1;33m[\u001b[0m\u001b[0mi\u001b[0m\u001b[1;33m]\u001b[0m\u001b[1;33m)\u001b[0m\u001b[1;33m*\u001b[0m\u001b[0mnp\u001b[0m\u001b[1;33m.\u001b[0m\u001b[0mcos\u001b[0m\u001b[1;33m(\u001b[0m\u001b[1;33m(\u001b[0m\u001b[0mindex\u001b[0m\u001b[1;33m[\u001b[0m\u001b[0mi\u001b[0m\u001b[1;33m]\u001b[0m\u001b[1;33m+\u001b[0m\u001b[1;36m1\u001b[0m\u001b[1;33m)\u001b[0m\u001b[1;33m/\u001b[0m\u001b[1;36m96\u001b[0m\u001b[1;33m*\u001b[0m\u001b[0mx\u001b[0m\u001b[1;33m)\u001b[0m\u001b[1;33m)\u001b[0m\u001b[1;33m\u001b[0m\u001b[1;33m\u001b[0m\u001b[0m\n\u001b[0m\u001b[0;32m     11\u001b[0m     \u001b[1;32mfor\u001b[0m \u001b[0mm\u001b[0m \u001b[1;32min\u001b[0m \u001b[0my\u001b[0m\u001b[1;33m:\u001b[0m\u001b[1;33m\u001b[0m\u001b[1;33m\u001b[0m\u001b[0m\n\u001b[0;32m     12\u001b[0m         \u001b[0myy\u001b[0m\u001b[1;33m=\u001b[0m\u001b[0myy\u001b[0m\u001b[1;33m+\u001b[0m\u001b[0mm\u001b[0m\u001b[1;33m\u001b[0m\u001b[1;33m\u001b[0m\u001b[0m\n",
      "\u001b[1;31mKeyboardInterrupt\u001b[0m: "
     ]
    }
   ],
   "source": [
    "for c,i in zip((c1,c2,c3,c4,c5),('1','2','3','4','5')):\n",
    "    print(i)\n",
    "    getfig(stdlise(seegap(c)),stdlise(c),i)"
   ]
  },
  {
   "cell_type": "code",
   "execution_count": 79,
   "id": "105b817b",
   "metadata": {},
   "outputs": [
    {
     "name": "stdout",
     "output_type": "stream",
     "text": [
      "0.0\n",
      "getsfgps done\n",
      "getda done\n",
      "getre done\n",
      "0.06408163265306123\n",
      "getsfgps done\n",
      "getda done\n",
      "getre done\n",
      "0.12816326530612246\n",
      "getsfgps done\n",
      "getda done\n",
      "getre done\n",
      "0.1922448979591837\n",
      "getsfgps done\n",
      "getda done\n",
      "getre done\n",
      "0.2563265306122449\n",
      "getsfgps done\n",
      "getda done\n",
      "getre done\n",
      "0.32040816326530613\n",
      "getsfgps done\n",
      "getda done\n",
      "getre done\n",
      "0.3844897959183674\n",
      "getsfgps done\n",
      "getda done\n",
      "getre done\n",
      "0.4485714285714286\n",
      "getsfgps done\n",
      "getda done\n",
      "getre done\n",
      "0.5126530612244898\n",
      "getsfgps done\n",
      "getda done\n",
      "getre done\n",
      "0.576734693877551\n",
      "getsfgps done\n",
      "getda done\n",
      "getre done\n",
      "0.6408163265306123\n",
      "getsfgps done\n",
      "getda done\n",
      "getre done\n",
      "0.7048979591836735\n",
      "getsfgps done\n",
      "getda done\n",
      "getre done\n",
      "0.7689795918367348\n",
      "getsfgps done\n",
      "getda done\n",
      "getre done\n",
      "0.833061224489796\n",
      "getsfgps done\n",
      "getda done\n",
      "getre done\n",
      "0.8971428571428572\n",
      "getsfgps done\n",
      "getda done\n",
      "getre done\n",
      "0.9612244897959185\n",
      "getsfgps done\n",
      "getda done\n",
      "getre done\n",
      "1.0253061224489797\n",
      "getsfgps done\n",
      "getda done\n",
      "getre done\n",
      "1.089387755102041\n",
      "getsfgps done\n",
      "getda done\n",
      "getre done\n",
      "1.153469387755102\n",
      "getsfgps done\n",
      "getda done\n",
      "getre done\n",
      "1.2175510204081634\n",
      "getsfgps done\n",
      "getda done\n",
      "getre done\n",
      "1.2816326530612245\n",
      "getsfgps done\n",
      "getda done\n",
      "getre done\n",
      "1.3457142857142859\n",
      "getsfgps done\n",
      "getda done\n",
      "getre done\n",
      "1.409795918367347\n",
      "getsfgps done\n",
      "getda done\n",
      "getre done\n",
      "1.4738775510204083\n",
      "getsfgps done\n",
      "getda done\n",
      "getre done\n",
      "1.5379591836734696\n",
      "getsfgps done\n",
      "getda done\n",
      "getre done\n",
      "1.6020408163265307\n",
      "getsfgps done\n",
      "getda done\n",
      "getre done\n",
      "1.666122448979592\n",
      "getsfgps done\n",
      "getda done\n",
      "getre done\n",
      "1.7302040816326532\n",
      "getsfgps done\n",
      "getda done\n",
      "getre done\n",
      "1.7942857142857145\n",
      "getsfgps done\n",
      "getda done\n",
      "getre done\n",
      "1.8583673469387756\n",
      "getsfgps done\n",
      "getda done\n",
      "getre done\n",
      "1.922448979591837\n",
      "getsfgps done\n",
      "getda done\n",
      "getre done\n",
      "1.986530612244898\n",
      "getsfgps done\n",
      "getda done\n",
      "getre done\n",
      "2.0506122448979593\n",
      "getsfgps done\n",
      "getda done\n",
      "getre done\n",
      "2.1146938775510207\n",
      "getsfgps done\n",
      "getda done\n",
      "getre done\n",
      "2.178775510204082\n",
      "getsfgps done\n",
      "getda done\n",
      "getre done\n",
      "2.242857142857143\n",
      "getsfgps done\n",
      "getda done\n",
      "getre done\n",
      "2.306938775510204\n",
      "getsfgps done\n",
      "getda done\n",
      "getre done\n",
      "2.3710204081632655\n",
      "getsfgps done\n",
      "getda done\n",
      "getre done\n",
      "2.435102040816327\n",
      "getsfgps done\n",
      "getda done\n",
      "getre done\n",
      "2.4991836734693877\n",
      "getsfgps done\n",
      "getda done\n",
      "getre done\n",
      "2.563265306122449\n",
      "getsfgps done\n",
      "getda done\n",
      "getre done\n",
      "2.6273469387755104\n",
      "getsfgps done\n",
      "getda done\n",
      "getre done\n",
      "2.6914285714285717\n",
      "getsfgps done\n",
      "getda done\n",
      "getre done\n",
      "2.755510204081633\n",
      "getsfgps done\n",
      "getda done\n",
      "getre done\n",
      "2.819591836734694\n",
      "getsfgps done\n",
      "getda done\n",
      "getre done\n",
      "2.8836734693877553\n",
      "getsfgps done\n",
      "getda done\n",
      "getre done\n",
      "2.9477551020408166\n",
      "getsfgps done\n",
      "getda done\n",
      "getre done\n",
      "3.011836734693878\n",
      "getsfgps done\n",
      "getda done\n",
      "getre done\n",
      "3.0759183673469392\n",
      "getsfgps done\n",
      "getda done\n",
      "getre done\n",
      "3.14\n",
      "getsfgps done\n",
      "getda done\n",
      "getre done\n",
      "3.2040816326530615\n",
      "getsfgps done\n",
      "getda done\n",
      "getre done\n",
      "3.2681632653061228\n",
      "getsfgps done\n",
      "getda done\n",
      "getre done\n",
      "3.332244897959184\n",
      "getsfgps done\n",
      "getda done\n",
      "getre done\n",
      "3.396326530612245\n",
      "getsfgps done\n",
      "getda done\n",
      "getre done\n",
      "3.4604081632653063\n",
      "getsfgps done\n",
      "getda done\n",
      "getre done\n",
      "3.5244897959183676\n",
      "getsfgps done\n",
      "getda done\n",
      "getre done\n",
      "3.588571428571429\n",
      "getsfgps done\n",
      "getda done\n",
      "getre done\n",
      "3.6526530612244903\n",
      "getsfgps done\n",
      "getda done\n",
      "getre done\n",
      "3.716734693877551\n",
      "getsfgps done\n",
      "getda done\n",
      "getre done\n",
      "3.7808163265306125\n",
      "getsfgps done\n",
      "getda done\n",
      "getre done\n",
      "3.844897959183674\n",
      "getsfgps done\n",
      "getda done\n",
      "getre done\n",
      "3.908979591836735\n",
      "getsfgps done\n",
      "getda done\n",
      "getre done\n",
      "3.973061224489796\n",
      "getsfgps done\n",
      "getda done\n",
      "getre done\n",
      "4.037142857142857\n",
      "getsfgps done\n",
      "getda done\n",
      "getre done\n",
      "4.101224489795919\n",
      "getsfgps done\n",
      "getda done\n",
      "getre done\n",
      "4.16530612244898\n",
      "getsfgps done\n",
      "getda done\n",
      "getre done\n",
      "4.229387755102041\n",
      "getsfgps done\n",
      "getda done\n",
      "getre done\n",
      "4.293469387755103\n",
      "getsfgps done\n",
      "getda done\n",
      "getre done\n",
      "4.357551020408164\n",
      "getsfgps done\n",
      "getda done\n",
      "getre done\n",
      "4.421632653061224\n",
      "getsfgps done\n",
      "getda done\n",
      "getre done\n",
      "4.485714285714286\n",
      "getsfgps done\n",
      "getda done\n",
      "getre done\n",
      "4.549795918367347\n",
      "getsfgps done\n",
      "getda done\n",
      "getre done\n",
      "4.613877551020408\n",
      "getsfgps done\n",
      "getda done\n",
      "getre done\n",
      "4.67795918367347\n",
      "getsfgps done\n",
      "getda done\n",
      "getre done\n",
      "4.742040816326531\n",
      "getsfgps done\n",
      "getda done\n",
      "getre done\n",
      "4.806122448979592\n",
      "getsfgps done\n",
      "getda done\n",
      "getre done\n",
      "4.870204081632654\n",
      "getsfgps done\n",
      "getda done\n",
      "getre done\n",
      "4.934285714285715\n",
      "getsfgps done\n",
      "getda done\n",
      "getre done\n",
      "4.9983673469387755\n",
      "getsfgps done\n",
      "getda done\n",
      "getre done\n",
      "5.062448979591837\n",
      "getsfgps done\n",
      "getda done\n",
      "getre done\n",
      "5.126530612244898\n",
      "getsfgps done\n",
      "getda done\n",
      "getre done\n",
      "5.1906122448979595\n",
      "getsfgps done\n",
      "getda done\n",
      "getre done\n",
      "5.254693877551021\n",
      "getsfgps done\n",
      "getda done\n",
      "getre done\n",
      "5.318775510204082\n",
      "getsfgps done\n",
      "getda done\n",
      "getre done\n",
      "5.3828571428571435\n",
      "getsfgps done\n",
      "getda done\n",
      "getre done\n",
      "5.446938775510205\n",
      "getsfgps done\n",
      "getda done\n",
      "getre done\n",
      "5.511020408163266\n",
      "getsfgps done\n",
      "getda done\n",
      "getre done\n",
      "5.5751020408163265\n",
      "getsfgps done\n",
      "getda done\n",
      "getre done\n",
      "5.639183673469388\n",
      "getsfgps done\n",
      "getda done\n",
      "getre done\n",
      "5.703265306122449\n",
      "getsfgps done\n",
      "getda done\n",
      "getre done\n",
      "5.7673469387755105\n",
      "getsfgps done\n",
      "getda done\n",
      "getre done\n",
      "5.831428571428572\n",
      "getsfgps done\n",
      "getda done\n",
      "getre done\n",
      "5.895510204081633\n",
      "getsfgps done\n",
      "getda done\n",
      "getre done\n",
      "5.9595918367346945\n",
      "getsfgps done\n",
      "getda done\n",
      "getre done\n",
      "6.023673469387756\n",
      "getsfgps done\n",
      "getda done\n",
      "getre done\n",
      "6.087755102040817\n",
      "getsfgps done\n",
      "getda done\n",
      "getre done\n",
      "6.1518367346938785\n",
      "getsfgps done\n",
      "getda done\n",
      "getre done\n",
      "6.215918367346939\n",
      "getsfgps done\n",
      "getda done\n",
      "getre done\n",
      "6.28\n",
      "getsfgps done\n",
      "getda done\n",
      "getre done\n",
      "(array([60], dtype=int64),)\n",
      "getre done\n"
     ]
    },
    {
     "data": {
      "text/plain": [
       "<Figure size 432x288 with 0 Axes>"
      ]
     },
     "metadata": {},
     "output_type": "display_data"
    }
   ],
   "source": [
    "getfig(stdlise(seegap(c2)),c2,'2')"
   ]
  },
  {
   "cell_type": "code",
   "execution_count": 74,
   "id": "bb1a2274",
   "metadata": {},
   "outputs": [
    {
     "data": {
      "text/plain": [
       "0.999999864364719"
      ]
     },
     "execution_count": 74,
     "metadata": {},
     "output_type": "execute_result"
    }
   ],
   "source": [
    "max(c2)"
   ]
  },
  {
   "cell_type": "code",
   "execution_count": 78,
   "id": "6634ea21",
   "metadata": {},
   "outputs": [
    {
     "data": {
      "text/plain": [
       "<Figure size 432x288 with 0 Axes>"
      ]
     },
     "metadata": {},
     "output_type": "display_data"
    }
   ],
   "source": [
    "plt.figure(figsize=(200,5))\n",
    "#plt.plot(stdlisec2),label='cos')\n",
    "plt.plot(da[0:10000,3],label='c2')\n",
    "plt.legend()\n",
    "plt.savefig('C:\\\\Users\\\\Lenovo\\\\Desktop\\\\气象水文\\\\see.png')\n",
    "plt.close()\n",
    "plt.clf()"
   ]
  },
  {
   "cell_type": "markdown",
   "id": "6f84afbe",
   "metadata": {},
   "source": [
    "# 测试样例"
   ]
  },
  {
   "cell_type": "code",
   "execution_count": 16,
   "id": "080d4115",
   "metadata": {},
   "outputs": [
    {
     "name": "stdout",
     "output_type": "stream",
     "text": [
      "getsfgps done\n",
      "getda done\n",
      "getre done\n"
     ]
    }
   ],
   "source": [
    "da=getsfgps(c1)\n",
    "ind=[da.index(a) for a in da if a >0.2]\n",
    "A=[]\n",
    "for i in ind:\n",
    "    A.append(da[i])\n",
    "index=ind[0:math.ceil(len(ind)/2)]\n",
    "print('getda done')\n",
    "x=np.linspace(0,208*np.pi,9984)\n",
    "theta=6\n",
    "theta=np.array([theta for i in range(len(x))])\n",
    "y=[]\n",
    "yy=[0 for i in range(9984)]\n",
    "for i in range(0,len(index)-1):\n",
    "    if A[i]==max(A):\n",
    "        y.append(np.sqrt(A[i])*np.cos((index[i]+1)/96*x+theta))\n",
    "    else:\n",
    "        y.append(np.sqrt(A[i])*np.cos((index[i]+1)/96*x))\n",
    "for m in y:\n",
    "    yy=yy+m\n",
    "print('getre done')"
   ]
  },
  {
   "cell_type": "code",
   "execution_count": 27,
   "id": "e3eb3cfb",
   "metadata": {},
   "outputs": [
    {
     "data": {
      "text/plain": [
       "<Figure size 432x288 with 0 Axes>"
      ]
     },
     "metadata": {},
     "output_type": "display_data"
    }
   ],
   "source": [
    "plt.figure(figsize=(200,30))\n",
    "plt.plot(stdlise(yy))\n",
    "plt.plot(stdlise(c1))\n",
    "plt.savefig('C:\\\\Users\\\\Lenovo\\\\Desktop\\\\气象水文\\\\还原.png')\n",
    "plt.close()\n",
    "plt.clf()"
   ]
  },
  {
   "cell_type": "code",
   "execution_count": 34,
   "id": "257143ef",
   "metadata": {},
   "outputs": [
    {
     "data": {
      "application/vnd.jupyter.widget-view+json": {
       "model_id": "91179f4bea2f450fa638ce02a5738084",
       "version_major": 2,
       "version_minor": 0
      },
      "text/plain": [
       "  0%|          | 0/100 [00:00<?, ?it/s]"
      ]
     },
     "metadata": {},
     "output_type": "display_data"
    }
   ],
   "source": [
    "from tqdm.notebook import tqdm\n",
    "from time import sleep\n",
    "\n",
    "for i in tqdm(range(100)):\n",
    "    sleep(0.01)\n"
   ]
  }
 ],
 "metadata": {
  "celltoolbar": "无",
  "kernelspec": {
   "display_name": "Python 3 (ipykernel)",
   "language": "python",
   "name": "python3"
  },
  "language_info": {
   "codemirror_mode": {
    "name": "ipython",
    "version": 3
   },
   "file_extension": ".py",
   "mimetype": "text/x-python",
   "name": "python",
   "nbconvert_exporter": "python",
   "pygments_lexer": "ipython3",
   "version": "3.7.11"
  },
  "varInspector": {
   "cols": {
    "lenName": 16,
    "lenType": 16,
    "lenVar": 40
   },
   "kernels_config": {
    "python": {
     "delete_cmd_postfix": "",
     "delete_cmd_prefix": "del ",
     "library": "var_list.py",
     "varRefreshCmd": "print(var_dic_list())"
    },
    "r": {
     "delete_cmd_postfix": ") ",
     "delete_cmd_prefix": "rm(",
     "library": "var_list.r",
     "varRefreshCmd": "cat(var_dic_list()) "
    }
   },
   "types_to_exclude": [
    "module",
    "function",
    "builtin_function_or_method",
    "instance",
    "_Feature"
   ],
   "window_display": false
  }
 },
 "nbformat": 4,
 "nbformat_minor": 5
}
